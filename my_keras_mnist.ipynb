{
 "cells": [
  {
   "cell_type": "code",
   "execution_count": 2,
   "metadata": {},
   "outputs": [
    {
     "name": "stdout",
     "output_type": "stream",
     "text": [
      "Model: \"sequential\"\n",
      "_________________________________________________________________\n",
      "Layer (type)                 Output Shape              Param #   \n",
      "=================================================================\n",
      "conv2d (Conv2D)              (None, 26, 26, 32)        320       \n",
      "_________________________________________________________________\n",
      "max_pooling2d (MaxPooling2D) (None, 13, 13, 32)        0         \n",
      "_________________________________________________________________\n",
      "conv2d_1 (Conv2D)            (None, 11, 11, 64)        18496     \n",
      "_________________________________________________________________\n",
      "max_pooling2d_1 (MaxPooling2 (None, 5, 5, 64)          0         \n",
      "_________________________________________________________________\n",
      "conv2d_2 (Conv2D)            (None, 4, 4, 128)         32896     \n",
      "_________________________________________________________________\n",
      "max_pooling2d_2 (MaxPooling2 (None, 2, 2, 128)         0         \n",
      "_________________________________________________________________\n",
      "flatten (Flatten)            (None, 512)               0         \n",
      "_________________________________________________________________\n",
      "dense (Dense)                (None, 1600)              820800    \n",
      "_________________________________________________________________\n",
      "dense_1 (Dense)              (None, 10)                16010     \n",
      "=================================================================\n",
      "Total params: 888,522\n",
      "Trainable params: 888,522\n",
      "Non-trainable params: 0\n",
      "_________________________________________________________________\n"
     ]
    }
   ],
   "source": [
    "\n",
    "import tensorflow as tf\n",
    "from tensorflow import keras\n",
    "from tensorflow.keras import layers\n",
    "from tensorflow.keras.datasets import mnist\n",
    "import cv2\n",
    "import numpy as np\n",
    "import matplotlib.pyplot as plt\n",
    "\n",
    "batch_size=128\n",
    "num_classes=10\n",
    "epochs=3\n",
    "\n",
    "(x_train,y_train),(x_test,y_test)=mnist.load_data()\n",
    "y_train = keras.utils.to_categorical(y_train, num_classes)\n",
    "y_test = keras.utils.to_categorical(y_test, num_classes)\n",
    "img_x=x_train[0].shape[0]\n",
    "img_y=x_train[0].shape[1]\n",
    "\n",
    "# reshape the data into a 4D tensor - (sample_number, x_img_size, y_img_size, num_channels)\n",
    "# because the MNIST is greyscale, we only have a single channel - RGB colour images would have 3\n",
    "x_train = x_train.reshape(x_train.shape[0], img_x, img_y, 1)\n",
    "x_test = x_test.reshape(x_test.shape[0], img_x, img_y, 1)\n",
    "\n",
    "model=keras.Sequential()\n",
    "model.add(keras.Input(shape=(28,28,1)))\n",
    "\n",
    "model.add(layers.Conv2D(32,kernel_size=(3,3),strides=(1,1),activation=\"relu\"))\n",
    "model.add(layers.MaxPooling2D(pool_size=(2,2)))\n",
    "\n",
    "model.add(layers.Conv2D(64,kernel_size=(3,3),strides=(1,1),activation=\"relu\"))\n",
    "model.add(layers.MaxPooling2D(pool_size=(2,2)))\n",
    "\n",
    "model.add(layers.Conv2D(128,kernel_size=(2,2),strides=(1,1),activation=\"relu\"))\n",
    "model.add(layers.MaxPooling2D(pool_size=(2,2)))\n",
    "\n",
    "#layers.Flatten() make 4D tensordata into 1D tensordata\n",
    "model.add(layers.Flatten())\n",
    "model.add(layers.Dense(25*64, activation='relu'))\n",
    "model.add(layers.Dense(num_classes,activation=\"softmax\"))\n",
    "\n",
    "model.compile(loss=keras.losses.categorical_crossentropy,\n",
    "              optimizer=keras.optimizers.Adam(),\n",
    "              metrics=[\"accuracy\"])\n",
    "#show the structure of nural net\n",
    "model.summary()"
   ]
  },
  {
   "cell_type": "code",
   "execution_count": 4,
   "metadata": {},
   "outputs": [],
   "source": [
    "#save model ,only contain the structure of the graph,\n",
    "model.save('D:\\mydoc\\ML\\model_graph.h5')"
   ]
  },
  {
   "cell_type": "code",
   "execution_count": 6,
   "metadata": {},
   "outputs": [
    {
     "name": "stdout",
     "output_type": "stream",
     "text": [
      "Epoch 1/3\n",
      "469/469 [==============================] - 23s 49ms/step - loss: 0.7839 - accuracy: 0.9226 - val_loss: 0.0675 - val_accuracy: 0.9792\n",
      "Epoch 2/3\n",
      "469/469 [==============================] - 23s 49ms/step - loss: 0.0623 - accuracy: 0.9807 - val_loss: 0.0568 - val_accuracy: 0.9827\n",
      "Epoch 3/3\n",
      "469/469 [==============================] - 23s 49ms/step - loss: 0.0421 - accuracy: 0.9863 - val_loss: 0.0429 - val_accuracy: 0.9859\n",
      "Test loss: 0.04293736815452576\n",
      "Test accuracy: 0.9858999848365784\n"
     ]
    }
   ],
   "source": [
    "#train model\n",
    "ht=model.fit(x_train, y_train,\n",
    "          batch_size=batch_size,\n",
    "          epochs=epochs,\n",
    "          verbose=1,\n",
    "          validation_data=(x_test, y_test))\n",
    "\n",
    "#evaluate the model\n",
    "score = model.evaluate(x_test, y_test, verbose=0)\n",
    "print('Test loss:', score[0])\n",
    "print('Test accuracy:', score[1])\n"
   ]
  },
  {
   "cell_type": "code",
   "execution_count": 6,
   "metadata": {},
   "outputs": [],
   "source": [
    "#save model,contain the graph structure and the weights\n",
    "model.save('D:\\mydoc\\ML\\model_all.h5')"
   ]
  },
  {
   "cell_type": "code",
   "execution_count": 8,
   "metadata": {},
   "outputs": [],
   "source": [
    "#save model,only contain the weights\n",
    "model.save_weights('D:\\mydoc\\ML\\model_weights.h5')"
   ]
  },
  {
   "cell_type": "code",
   "execution_count": 9,
   "metadata": {},
   "outputs": [
    {
     "data": {
      "image/png": "[encoded data removed]",
      "text/plain": [
       "<Figure size 432x288 with 1 Axes>"
      ]
     },
     "metadata": {
      "needs_background": "light"
     },
     "output_type": "display_data"
    }
   ],
   "source": [
    "\n",
    "# draw accuracy the process of train  and test \n",
    "plt.plot(ht.history['accuracy'])\n",
    "plt.plot(ht.history['val_accuracy'])\n",
    "plt.plot(ht.history['loss'])\n",
    "plt.plot(ht.history['val_loss'])\n",
    "\n",
    "plt.title('Model accuracy')\n",
    "plt.ylabel('Accuracy')\n",
    "plt.xlabel('Epoch')\n",
    "plt.legend(['Train', 'Test','trainloss','testloss'], loc='upper left')\n",
    "plt.grid(True)\n",
    "plt.show()\n"
   ]
  },
  {
   "cell_type": "code",
   "execution_count": 9,
   "metadata": {},
   "outputs": [],
   "source": [
    "#predict\n",
    "classes = model.predict(x_test, batch_size=128)"
   ]
  },
  {
   "cell_type": "code",
   "execution_count": 12,
   "metadata": {},
   "outputs": [
    {
     "name": "stdout",
     "output_type": "stream",
     "text": [
      "label: 7   predict: 7\n",
      "label: 2   predict: 2\n",
      "label: 1   predict: 1\n",
      "label: 0   predict: 0\n",
      "label: 4   predict: 4\n",
      "label: 1   predict: 1\n",
      "label: 4   predict: 4\n",
      "label: 9   predict: 9\n",
      "label: 5   predict: 5\n",
      "label: 9   predict: 9\n"
     ]
    }
   ],
   "source": [
    "#多行注释和取消  ctrl+/\n",
    "for i in range(10):\n",
    "    cv2.imshow('ho',x_test[i][:,:])\n",
    "    print('label:',np.argmax(np.array(y_test[i])),end='   ')\n",
    "    print('predict:',np.argmax(classes[i]))\n",
    "    cv2.waitKey(0) \n",
    "\n",
    "cv2.destroyAllWindows()"
   ]
  },
  {
   "cell_type": "markdown",
   "metadata": {},
   "source": [
    "测试加载已经训练好的模型做分类"
   ]
  },
  {
   "cell_type": "code",
   "execution_count": 14,
   "metadata": {},
   "outputs": [],
   "source": [
    "model = keras.models.load_model('D:\\mydoc\\ML\\model_all.h5')"
   ]
  },
  {
   "cell_type": "code",
   "execution_count": 15,
   "metadata": {},
   "outputs": [
    {
     "name": "stdout",
     "output_type": "stream",
     "text": [
      "label: 0   predict: 0\n",
      "label: 6   predict: 6\n",
      "label: 9   predict: 9\n",
      "label: 0   predict: 0\n",
      "label: 1   predict: 1\n",
      "label: 5   predict: 5\n",
      "label: 9   predict: 9\n",
      "label: 7   predict: 7\n",
      "label: 3   predict: 3\n",
      "label: 4   predict: 4\n"
     ]
    }
   ],
   "source": [
    "for i in range(10,20):\n",
    "    cv2.imshow('ho',x_test[i][:,:])\n",
    "    print('label:',np.argmax(np.array(y_test[i])),end='   ')\n",
    "    print('predict:',np.argmax(classes[i]))\n",
    "    cv2.waitKey(0) "
   ]
  },
  {
   "cell_type": "markdown",
   "metadata": {},
   "source": [
    "模型可视化"
   ]
  },
  {
   "cell_type": "code",
   "execution_count": 4,
   "metadata": {},
   "outputs": [
    {
     "data": {
      "image/png": "[encoded data removed]",
      "text/plain": [
       "<IPython.core.display.Image object>"
      ]
     },
     "execution_count": 4,
     "metadata": {},
     "output_type": "execute_result"
    }
   ],
   "source": [
    "from tensorflow.keras.utils import plot_model\n",
    "\n",
    "plot_model(model, to_file='model.png')"
   ]
  },
  {
   "cell_type": "code",
   "execution_count": null,
   "metadata": {},
   "outputs": [],
   "source": []
  }
 ],
 "metadata": {
  "kernelspec": {
   "display_name": "Python [conda env:py3]",
   "language": "python",
   "name": "conda-env-py3-py"
  },
  "language_info": {
   "codemirror_mode": {
    "name": "ipython",
    "version": 3
   },
   "file_extension": ".py",
   "mimetype": "text/x-python",
   "name": "python",
   "nbconvert_exporter": "python",
   "pygments_lexer": "ipython3",
   "version": "3.7.7"
  }
 },
 "nbformat": 4,
 "nbformat_minor": 4
}
